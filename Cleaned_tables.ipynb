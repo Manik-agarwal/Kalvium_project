{
  "nbformat": 4,
  "nbformat_minor": 0,
  "metadata": {
    "colab": {
      "provenance": []
    },
    "kernelspec": {
      "name": "python3",
      "display_name": "Python 3"
    },
    "language_info": {
      "name": "python"
    }
  },
  "cells": [
    {
      "cell_type": "code",
      "execution_count": null,
      "metadata": {
        "colab": {
          "base_uri": "https://localhost:8080/"
        },
        "id": "WmbZLNLOwVtY",
        "outputId": "71727cb8-c7c4-41df-a430-bb7cc95f05a9"
      },
      "outputs": [
        {
          "output_type": "stream",
          "name": "stdout",
          "text": [
            "None\n"
          ]
        }
      ],
      "source": [
        "import pandas as pd\n",
        "\n",
        "# Creating the DataFrame\n",
        "#REMOVING ALL THE NOT REQUIRED COLUMNS AND CLEANING ALL THE NULL VALUES\n",
        "data = {\n",
        "    \"Party\": [\n",
        "        \"Bharatiya Janata Party - BJP\", \"Indian National Congress - INC\", \"Samajwadi Party - SP\",\n",
        "        \"All India Trinamool Congress - AITC\", \"Dravida Munnetra Kazhagam - DMK\", \"Telugu Desam - TDP\",\n",
        "        \"Janata Dal (United) - JD(U)\", \"Shiv Sena (Uddhav Balasaheb Thackrey) - SHSUBT\",\n",
        "        \"Nationalist Congress Party – Sharadchandra Pawar - NCP\", \"Shiv Sena - SHS\", \"Lok Janshakti Party(Ram Vilas) - LJPRV\",\n",
        "        \"Yuvajana Sramika Rythu Congress Party - YSRCP\", \"Rashtriya Janata Dal - RJD\", \"Communist Party of India (Marxist) - CPI(M)\",\n",
        "        \"Indian Union Muslim League - IUML\", \"Aam Aadmi Party - AAAP\", \"Jharkhand Mukti Morcha - JMM\", \"Janasena Party - JnP\",\n",
        "        \"Communist Party of India (Marxist-Leninist) (Liberation) - CPI(ML)(L)\", \"Janata Dal (Secular) - JD(S)\",\n",
        "        \"Viduthalai Chiruthaigal Katchi - VCK\", \"Communist Party of India - CPI\", \"Rashtriya Lok Dal - RLD\",\n",
        "        \"Jammu & Kashmir National Conference - JKN\", \"United People’s Party, Liberal - UPPL\", \"Asom Gana Parishad - AGP\",\n",
        "        \"Hindustani Awam Morcha (Secular) - HAMS\", \"Kerala Congress - KEC\", \"Revolutionary Socialist Party - RSP\",\n",
        "        \"Nationalist Congress Party - NCP\", \"Voice of the People Party - VOTPP\", \"Zoram People’s Movement - ZPM\",\n",
        "        \"Shiromani Akali Dal - SAD\", \"Rashtriya Loktantrik Party - RLTP\", \"Bharat Adivasi Party - BHRTADVSIP\",\n",
        "        \"Sikkim Krantikari Morcha - SKM\", \"Marumalarchi Dravida Munnetra Kazhagam - MDMK\",\n",
        "        \"Aazad Samaj Party (Kanshi Ram) - ASPKR\", \"Apna Dal (Soneylal) - ADAL\", \"AJSU Party - AJSUP\",\n",
        "        \"All India Majlis-E-Ittehadul Muslimeen - AIMIM\", \"Independent - IND\"\n",
        "    ],\n",
        "    \"Won\": [240, 99, 37, 29, 22, 16, 12, 9, 8, 7, 5, 4, 4, 4, 3, 3, 3, 2, 2, 2, 2, 2, 2, 2, 1, 1, 1, 1, 1, 1, 1, 1, 1, 1, 1, 1, 1, 1, 1, 1, 1, 7],\n",
        "    \"Leading\": [0, 0, 0, 0, 0, 0, 0, 0, 0, 0, 0, 0, 0, 0, 0, 0, 0, 0, 0, 0, 0, 0, 0, 0, 0, 0, 0, 0, 0, 0, 0, 0, 0, 0, 0, 0, 0, 0, 0, 0, 0, 0],\n",
        "    \"Total\": [240, 99, 37, 29, 22, 16, 12, 9, 8, 7, 5, 4, 4, 4, 3, 3, 3, 2, 2, 2, 2, 2, 2, 2, 1, 1, 1, 1, 1, 1, 1, 1, 1, 1, 1, 1, 1, 1, 1, 1, 1, 7]\n",
        "}\n",
        "\n",
        "df = pd.DataFrame(data)\n",
        "\n",
        "# Dropping the 'Won' and 'Leading' columns\n",
        "df_cleaned = df.drop(columns=['Won', 'Leading'],inplace=True)\n",
        "\n",
        "# Displaying the cleaned DataFrame\n",
        "print(df_cleaned)\n",
        "\n",
        "df.to_csv(\"cleaned_data.csv\")\n"
      ]
    }
  ]
}